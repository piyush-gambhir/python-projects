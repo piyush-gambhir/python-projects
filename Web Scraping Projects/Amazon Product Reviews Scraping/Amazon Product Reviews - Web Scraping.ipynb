{
 "cells": [
  {
   "cell_type": "code",
   "execution_count": 1,
   "metadata": {},
   "outputs": [],
   "source": [
    "import requests\n",
    "from bs4 import BeautifulSoup as bs\n",
    "import re\n",
    "import pandas as pd\n",
    "import time"
   ]
  },
  {
   "cell_type": "code",
   "execution_count": 2,
   "metadata": {},
   "outputs": [],
   "source": [
    "def get_review_url(product_url):\n",
    "    # Extract ASIN from the product URL\n",
    "    pattern = r'/dp/([A-Za-z0-9]+)'\n",
    "    match = re.search(pattern, product_url)\n",
    "    if match:\n",
    "        asin = match.group(1)\n",
    "        # Generate the review URL\n",
    "        review_url = f'https://www.amazon.in/product-reviews/{asin}/ref=cm_cr_dp_d_show_all_btm?ie=UTF8&reviewerType=all_reviews'\n",
    "        return review_url\n",
    "    else:\n",
    "        return \"Invalid URL\""
   ]
  },
  {
   "cell_type": "code",
   "execution_count": 3,
   "metadata": {},
   "outputs": [],
   "source": [
    "def get_page_count(review_url):\n",
    "    page = requests.get(review_url)\n",
    "    soup = bs(page.content, 'html.parser')\n",
    "    page_count_string = (soup.find_all('div', {\n",
    "        'data-hook': 'cr-filter-info-review-rating-count'}))[0].text.strip().split(' ')[3]\n",
    "    page_count = int((int(page_count_string.replace(',', '')))//10 + 1)\n",
    "    return page_count"
   ]
  },
  {
   "cell_type": "code",
   "execution_count": 4,
   "metadata": {},
   "outputs": [],
   "source": [
    "def extract_reviews(reviews_list, review_url, page_count):\n",
    "        \n",
    "    review_url = review_url + f'&pageNumber={page_count}'\n",
    "    soup = bs(requests.get(review_url).content, 'html.parser')\n",
    "    reviews = soup.find_all('div', {'data-hook': 'review'})\n",
    "    for review in reviews:\n",
    "        review_dict = {\n",
    "            'Page': page_count,\n",
    "            'Review Title': (review.find_all('a', {'data-hook': 'review-title'}))[0].text.strip(),\n",
    "            'Review Description': (review.find_all('span', {'data-hook': 'review-body'}))[0].text.strip(),\n",
    "            'Rating': (review.find_all('i', {'data-hook': 'review-star-rating'})[0].text.strip())\n",
    "        }\n",
    "\n",
    "        reviews_list.append(review_dict)"
   ]
  },
  {
   "cell_type": "code",
   "execution_count": 5,
   "metadata": {},
   "outputs": [],
   "source": [
    "def export_to_csv(reviews_list):\n",
    "    df = pd.DataFrame(reviews_list)\n",
    "    df.to_csv('reviews.csv', index=False)"
   ]
  },
  {
   "cell_type": "code",
   "execution_count": 12,
   "metadata": {},
   "outputs": [
    {
     "name": "stdout",
     "output_type": "stream",
     "text": [
      "644\n",
      "[]\n"
     ]
    }
   ],
   "source": [
    "product_url = 'https://www.amazon.in/Samsung-Galaxy-Cloud-128GB-Storage/dp/B08VB2MRF8/?_encoding=UTF8&pd_rd_w=DJDB2&content-id=amzn1.sym.aff93425-4e25-4d86-babd-0fa9faf7ca5d&pf_rd_p=aff93425-4e25-4d86-babd-0fa9faf7ca5d&pf_rd_r=HCH45Z56F02AF8F07CWQ&pd_rd_wg=zW6Li&pd_rd_r=5844dd9b-fd08-4f7d-96f7-1b0dce96040f&ref_=pd_gw_ci_mcx_mr_hp_atf_m&th=1'\n",
    "\n",
    "review_url = get_review_url(product_url)\n",
    "page_count = get_page_count(review_url)\n",
    "print(page_count)\n",
    "reviews_list = []\n",
    "\n",
    "for i in range(1, page_count+1):\n",
    "    extract_reviews(reviews_list, review_url, i)\n",
    "print(reviews_list)\n",
    "export_to_csv(reviews_list)"
   ]
  }
 ],
 "metadata": {
  "kernelspec": {
   "display_name": "Python 3",
   "language": "python",
   "name": "python3"
  },
  "language_info": {
   "codemirror_mode": {
    "name": "ipython",
    "version": 3
   },
   "file_extension": ".py",
   "mimetype": "text/x-python",
   "name": "python",
   "nbconvert_exporter": "python",
   "pygments_lexer": "ipython3",
   "version": "3.11.4"
  },
  "orig_nbformat": 4
 },
 "nbformat": 4,
 "nbformat_minor": 2
}
